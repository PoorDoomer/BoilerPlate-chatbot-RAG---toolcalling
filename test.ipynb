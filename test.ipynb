{
 "cells": [
  {
   "cell_type": "code",
   "execution_count": 5,
   "metadata": {},
   "outputs": [],
   "source": [
    "import json\n",
    "import sqlite3\n",
    "import pandas as pd\n",
    "\n",
    "\n",
    "\n",
    "\n",
    "\n",
    "\n",
    "\n"
   ]
  },
  {
   "cell_type": "code",
   "execution_count": 21,
   "metadata": {},
   "outputs": [
    {
     "name": "stdout",
     "output_type": "stream",
     "text": [
      "<class 'dict'>\n"
     ]
    },
    {
     "name": "stderr",
     "output_type": "stream",
     "text": [
      "C:\\Users\\User\\AppData\\Local\\Temp\\ipykernel_15696\\1917338814.py:12: DeprecationWarning: DataFrameGroupBy.apply operated on the grouping columns. This behavior is deprecated, and in a future version of pandas the grouping columns will be excluded from the operation. Either pass `include_groups=False` to exclude the groupings or explicitly select the grouping columns after groupby to silence this warning.\n",
      "  .apply(lambda g: dict(zip(g[\"Colonne\"], g[\"signification\"])))\n"
     ]
    }
   ],
   "source": [
    "db_path = \"databasevf.db\"\n",
    "\n",
    "\n",
    "connection = sqlite3.connect(db_path)\n",
    "cursor = connection.cursor()\n",
    "table_name = 'Dictionnaire_de_donnee'\n",
    "\n",
    "df = pd.read_sql_query(f\"SELECT * FROM {table_name}\", connection)\n",
    "# print(df.head())\n",
    "nested = (\n",
    "    df.groupby(\"Table\")\n",
    "      .apply(lambda g: dict(zip(g[\"Colonne\"], g[\"signification\"])))\n",
    "      .to_dict()\n",
    ")\n",
    "print(type(nested))\n",
    "json_nested = json.dumps(nested,ensure_ascii=False,indent=4)\n",
    "with open(\"dictionnaire_de_donnee.json\", \"w\",encoding=\"utf-8\") as f:\n",
    "    f.write(json_nested)\n",
    "\n",
    "cursor.close()\n",
    "connection.close()\n",
    "\n",
    "\n",
    "\n",
    "\n",
    "\n",
    "\n",
    "\n",
    "\n",
    "\n"
   ]
  }
 ],
 "metadata": {
  "kernelspec": {
   "display_name": "venv",
   "language": "python",
   "name": "python3"
  },
  "language_info": {
   "codemirror_mode": {
    "name": "ipython",
    "version": 3
   },
   "file_extension": ".py",
   "mimetype": "text/x-python",
   "name": "python",
   "nbconvert_exporter": "python",
   "pygments_lexer": "ipython3",
   "version": "3.12.1"
  }
 },
 "nbformat": 4,
 "nbformat_minor": 2
}
